{
  "nbformat": 4,
  "nbformat_minor": 0,
  "metadata": {
    "colab": {
      "name": "Numpy.ipynb",
      "provenance": [],
      "collapsed_sections": [],
      "authorship_tag": "ABX9TyPkM47/RTrDKzHx+Z93MjvC",
      "include_colab_link": true
    },
    "kernelspec": {
      "name": "python3",
      "display_name": "Python 3"
    }
  },
  "cells": [
    {
      "cell_type": "markdown",
      "metadata": {
        "id": "view-in-github",
        "colab_type": "text"
      },
      "source": [
        "<a href=\"https://colab.research.google.com/github/DanielMode/wtf/blob/master/Numpy.ipynb\" target=\"_parent\"><img src=\"https://colab.research.google.com/assets/colab-badge.svg\" alt=\"Open In Colab\"/></a>"
      ]
    },
    {
      "cell_type": "code",
      "metadata": {
        "id": "IcBjmkeNYCrb",
        "colab_type": "code",
        "colab": {}
      },
      "source": [
        "import numpy as np\n",
        "import pandas as pd\n",
        " \n",
        "data = pd.read_csv('data/president_heights.csv')\n",
        "heights = np.array(data['height(cm)'])\n",
        " \n",
        " print(heights)\n",
        "print(\"Mean height: \", heights.mean())\n",
        "print(\"Standard deviation:\", heights.std())\n",
        "print(\"Minimum height: \", heights.min())\n",
        "print(\"Maximum height: \", heights.max())\n",
        "print(\"25th percentile: \", np.percentile(heights, 25))\n",
        "print(\"Median: \", np.median(heights))\n",
        "print(\"75th percentile: \", np.percentile(heights, 75))\n",
        "\n",
        "%matplotlib inline\n",
        "import matplotlib.pyplot as plt\n",
        "import seaborn; seaborn.set()\n",
        "\n",
        "plt.hist(heights)\n",
        "plt.title('Height Distribution of US Presidents')\n",
        "plt.xlabel('height (cm)')\n",
        "plt.ylabel('number');"
      ],
      "execution_count": null,
      "outputs": []
    }
  ]
}